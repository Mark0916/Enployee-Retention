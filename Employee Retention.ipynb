{
 "cells": [
  {
   "cell_type": "code",
   "execution_count": 1,
   "metadata": {},
   "outputs": [],
   "source": [
    "import pandas as pd\n",
    "import numpy as np\n",
    "import seaborn as sns\n",
    "import matplotlib.pyplot as plt\n",
    "import warnings\n",
    "from sklearn.preprocessing import MinMaxScaler\n",
    "warnings.simplefilter(action='ignore', category=FutureWarning)"
   ]
  },
  {
   "cell_type": "markdown",
   "metadata": {},
   "source": [
    "# Data Preparation and Cleansing"
   ]
  },
  {
   "cell_type": "markdown",
   "metadata": {},
   "source": [
    "- **Create a label quit that would be used for later classification.**\n",
    "- **Fill the NA values in quit_date with the last day of this dataset, which is December 13, 2015.**\n",
    "- **Create a new feature tenure_month to calculate the actual tenure after an employee quit, this is the proxy to predict when an employee is more likely to quite.**"
   ]
  },
  {
   "cell_type": "code",
   "execution_count": 378,
   "metadata": {},
   "outputs": [],
   "source": [
    "data = pd.read_csv('employee_retention.csv')"
   ]
  },
  {
   "cell_type": "code",
   "execution_count": 379,
   "metadata": {},
   "outputs": [],
   "source": [
    "data['quit'] = data['quit_date'].apply(lambda x: 1 if type(x)==str else 0)"
   ]
  },
  {
   "cell_type": "code",
   "execution_count": 380,
   "metadata": {},
   "outputs": [],
   "source": [
    "data['quit_date'] = data['quit_date'].fillna('2015-12-13')"
   ]
  },
  {
   "cell_type": "code",
   "execution_count": 381,
   "metadata": {},
   "outputs": [],
   "source": [
    "data['join_date'] = pd.to_datetime(data['join_date'])\n",
    "data['quit_date'] = pd.to_datetime(data['quit_date'])"
   ]
  },
  {
   "cell_type": "code",
   "execution_count": 382,
   "metadata": {
    "scrolled": true
   },
   "outputs": [],
   "source": [
    "data['tenure_month'] = data['quit_date'] - data['join_date']\n",
    "data['tenure_month'] = data['tenure_month'].apply(lambda x: x.days)\n",
    "data['tenure_month'] = data['tenure_month']/30"
   ]
  },
  {
   "cell_type": "code",
   "execution_count": 399,
   "metadata": {},
   "outputs": [],
   "source": [
    "data[['salary_scaled']] = MinMaxScaler().fit_transform(data[['salary']])\n",
    "data[['seniority_scaled']] = MinMaxScaler().fit_transform(data[['seniority']])\n",
    "data[['tenure_month_scaled']] = MinMaxScaler().fit_transform(data[['tenure_month']])"
   ]
  },
  {
   "cell_type": "code",
   "execution_count": 384,
   "metadata": {},
   "outputs": [
    {
     "data": {
      "text/html": [
       "<div>\n",
       "<style scoped>\n",
       "    .dataframe tbody tr th:only-of-type {\n",
       "        vertical-align: middle;\n",
       "    }\n",
       "\n",
       "    .dataframe tbody tr th {\n",
       "        vertical-align: top;\n",
       "    }\n",
       "\n",
       "    .dataframe thead th {\n",
       "        text-align: right;\n",
       "    }\n",
       "</style>\n",
       "<table border=\"1\" class=\"dataframe\">\n",
       "  <thead>\n",
       "    <tr style=\"text-align: right;\">\n",
       "      <th></th>\n",
       "      <th>employee_id</th>\n",
       "      <th>company_id</th>\n",
       "      <th>dept</th>\n",
       "      <th>seniority</th>\n",
       "      <th>salary</th>\n",
       "      <th>join_date</th>\n",
       "      <th>quit_date</th>\n",
       "      <th>quit</th>\n",
       "      <th>tenure_month</th>\n",
       "    </tr>\n",
       "  </thead>\n",
       "  <tbody>\n",
       "    <tr>\n",
       "      <th>0</th>\n",
       "      <td>13021</td>\n",
       "      <td>7</td>\n",
       "      <td>customer_service</td>\n",
       "      <td>28</td>\n",
       "      <td>89000.0</td>\n",
       "      <td>2014-03-24</td>\n",
       "      <td>2015-10-30</td>\n",
       "      <td>1</td>\n",
       "      <td>19.500000</td>\n",
       "    </tr>\n",
       "    <tr>\n",
       "      <th>1</th>\n",
       "      <td>5461</td>\n",
       "      <td>7</td>\n",
       "      <td>marketing</td>\n",
       "      <td>20</td>\n",
       "      <td>183000.0</td>\n",
       "      <td>2013-04-29</td>\n",
       "      <td>2014-04-04</td>\n",
       "      <td>1</td>\n",
       "      <td>11.333333</td>\n",
       "    </tr>\n",
       "    <tr>\n",
       "      <th>2</th>\n",
       "      <td>21162</td>\n",
       "      <td>4</td>\n",
       "      <td>marketing</td>\n",
       "      <td>14</td>\n",
       "      <td>101000.0</td>\n",
       "      <td>2014-10-13</td>\n",
       "      <td>2015-12-13</td>\n",
       "      <td>0</td>\n",
       "      <td>14.200000</td>\n",
       "    </tr>\n",
       "    <tr>\n",
       "      <th>3</th>\n",
       "      <td>22093</td>\n",
       "      <td>7</td>\n",
       "      <td>customer_service</td>\n",
       "      <td>20</td>\n",
       "      <td>115000.0</td>\n",
       "      <td>2012-05-14</td>\n",
       "      <td>2013-06-07</td>\n",
       "      <td>1</td>\n",
       "      <td>12.966667</td>\n",
       "    </tr>\n",
       "    <tr>\n",
       "      <th>4</th>\n",
       "      <td>13586</td>\n",
       "      <td>2</td>\n",
       "      <td>data_science</td>\n",
       "      <td>23</td>\n",
       "      <td>276000.0</td>\n",
       "      <td>2011-10-17</td>\n",
       "      <td>2014-08-22</td>\n",
       "      <td>1</td>\n",
       "      <td>34.666667</td>\n",
       "    </tr>\n",
       "  </tbody>\n",
       "</table>\n",
       "</div>"
      ],
      "text/plain": [
       "   employee_id  company_id              dept  seniority    salary  join_date  \\\n",
       "0        13021           7  customer_service         28   89000.0 2014-03-24   \n",
       "1         5461           7         marketing         20  183000.0 2013-04-29   \n",
       "2        21162           4         marketing         14  101000.0 2014-10-13   \n",
       "3        22093           7  customer_service         20  115000.0 2012-05-14   \n",
       "4        13586           2      data_science         23  276000.0 2011-10-17   \n",
       "\n",
       "   quit_date  quit  tenure_month  \n",
       "0 2015-10-30     1     19.500000  \n",
       "1 2014-04-04     1     11.333333  \n",
       "2 2015-12-13     0     14.200000  \n",
       "3 2013-06-07     1     12.966667  \n",
       "4 2014-08-22     1     34.666667  "
      ]
     },
     "execution_count": 384,
     "metadata": {},
     "output_type": "execute_result"
    }
   ],
   "source": [
    "data.head()"
   ]
  },
  {
   "cell_type": "markdown",
   "metadata": {},
   "source": [
    "# Exploratory Data Analysis (EDA)"
   ]
  },
  {
   "cell_type": "markdown",
   "metadata": {},
   "source": [
    "**Although both groups regardless of quit or not, there was a tendency that the higher the seniority was, the lower churning rate it was, this phenomenon was more obvious for the employees that quit. Because for people who quit, the seniority was clearly less than its counterpart.**"
   ]
  },
  {
   "cell_type": "code",
   "execution_count": 385,
   "metadata": {},
   "outputs": [
    {
     "data": {
      "image/png": "[encoded data removed]",
      "text/plain": [
       "<Figure size 1080x504 with 1 Axes>"
      ]
     },
     "metadata": {
      "needs_background": "light"
     },
     "output_type": "display_data"
    }
   ],
   "source": [
    "fig, ax = plt.subplots(figsize=(15, 7))\n",
    "sns.histplot(data=data, x='seniority', hue='quit', kde=True, ax=ax);"
   ]
  },
  {
   "cell_type": "markdown",
   "metadata": {},
   "source": [
    "**Even though each department had a different employee retention rate, the difference was not very large as they all fell under the range of 51% to 58%, with the lowest from engineering and the highest from sales.**"
   ]
  },
  {
   "cell_type": "code",
   "execution_count": 386,
   "metadata": {},
   "outputs": [
    {
     "data": {
      "image/png": "[encoded data removed]",
      "text/plain": [
       "<Figure size 1152x648 with 1 Axes>"
      ]
     },
     "metadata": {
      "needs_background": "light"
     },
     "output_type": "display_data"
    }
   ],
   "source": [
    "dept_quit = data.groupby('dept').agg({\"quit\": lambda x: sum(x)/len(x)}).sort_values('quit')\n",
    "dept_quit.columns = ['quit_ratio']\n",
    "fig, ax = plt.subplots(figsize=(16, 9))\n",
    "dept_quit.plot(kind='bar', ax=ax, color='steelblue');"
   ]
  },
  {
   "cell_type": "markdown",
   "metadata": {},
   "source": [
    "**For occupations with high salaries, such as engineering and data science(darker color), the retention rate was impacted more by salaries compare to the lower income group.**"
   ]
  },
  {
   "cell_type": "code",
   "execution_count": 400,
   "metadata": {},
   "outputs": [
    {
     "data": {
      "image/png": "[encoded data removed]",
      "text/plain": [
       "<Figure size 1080x504 with 2 Axes>"
      ]
     },
     "metadata": {
      "needs_background": "light"
     },
     "output_type": "display_data"
    }
   ],
   "source": [
    "fig, ax = plt.subplots(figsize=(15, 7))\n",
    "sns.heatmap(data.pivot_table(index='dept', columns='quit', aggfunc={\"salary_scaled\": np.mean}), vmin=0.1, vmax=0.6, cmap=\"Greens\");"
   ]
  },
  {
   "cell_type": "markdown",
   "metadata": {},
   "source": [
    "# Feature Engineering"
   ]
  },
  {
   "cell_type": "markdown",
   "metadata": {},
   "source": [
    "- **During the exploratory analysis, we found that employees who were less senior in their career were more likely to churn and it alleviated over time, therefore the feature of \"seniority_sqrt\" is created to depict this phenomenon since it fits a power function with a negative exponent.**\n",
    "- **The time of a year might affect how long the new employees would stay, for instance, if a employee joined a company in Q1, they might want to wait before the fiscal year ends to obtain their bonus if they wanted to quit.**\n",
    "- **At the opposite of seniority, employee who were paid more were more likely to churn because of the salary, thus, \"salary_square\" is created.**\n",
    "- **How many jobs that an employee had before might suggest how frequently they might change jobs, the feature \"jobs_changed\" is in place for this one.**"
   ]
  },
  {
   "cell_type": "code",
   "execution_count": 388,
   "metadata": {},
   "outputs": [],
   "source": [
    "data['seniority_sqrt'] = data['seniority'].apply(np.sqrt)\n",
    "data['join_quarter'] = data['join_date'].apply(lambda x: (x.month-1)//3+1)\n",
    "data['salary_square'] = data['salary'] * data['salary']"
   ]
  },
  {
   "cell_type": "code",
   "execution_count": 389,
   "metadata": {},
   "outputs": [],
   "source": [
    "def counting(grouper):\n",
    "    \n",
    "    length = len(grouper)\n",
    "    grouper['jobs_changed'] = range(length)\n",
    "    \n",
    "    return grouper"
   ]
  },
  {
   "cell_type": "code",
   "execution_count": 390,
   "metadata": {},
   "outputs": [],
   "source": [
    "data = data.groupby('employee_id').apply(lambda x: counting(x))"
   ]
  },
  {
   "cell_type": "markdown",
   "metadata": {},
   "source": [
    "# Decision Tree"
   ]
  },
  {
   "cell_type": "code",
   "execution_count": 391,
   "metadata": {},
   "outputs": [],
   "source": [
    "data['dept'] = LabelEncoder().fit_transform(data['dept'])"
   ]
  },
  {
   "cell_type": "code",
   "execution_count": 408,
   "metadata": {},
   "outputs": [],
   "source": [
    "feature_names = ['company_id','dept','seniority','salary','seniority_sqrt','join_quarter','salary_square','jobs_changed']"
   ]
  },
  {
   "cell_type": "code",
   "execution_count": 409,
   "metadata": {},
   "outputs": [],
   "source": [
    "X = data[feature_names]\n",
    "y = data['quit']\n",
    "\n",
    "X_train, X_test, y_train, y_test = train_test_split(X, y, test_size=0.2, random_state=1)"
   ]
  },
  {
   "cell_type": "code",
   "execution_count": 410,
   "metadata": {},
   "outputs": [
    {
     "name": "stdout",
     "output_type": "stream",
     "text": [
      "Accuracy:  0.5705322809147946\n"
     ]
    }
   ],
   "source": [
    "from sklearn.tree import DecisionTreeClassifier\n",
    "from sklearn import tree\n",
    "\n",
    "clf = DecisionTreeClassifier(max_depth=3, min_samples_leaf=50).fit(X_train, y_train_class)\n",
    "pred = clf.predict(X_test)\n",
    "print(\"Accuracy: \", accuracy_score(y_test_class, pred))"
   ]
  },
  {
   "cell_type": "code",
   "execution_count": 395,
   "metadata": {},
   "outputs": [],
   "source": [
    "importances = clf.feature_importances_\n",
    "sorted_importances = np.argsort(importances)\n",
    "feature_importances = pd.Series(importances, index=feature_names)[sorted_indices][::-1]"
   ]
  },
  {
   "cell_type": "code",
   "execution_count": 396,
   "metadata": {
    "scrolled": false
   },
   "outputs": [
    {
     "data": {
      "image/png": "[encoded data removed]",
      "text/plain": [
       "<Figure size 1080x576 with 1 Axes>"
      ]
     },
     "metadata": {
      "needs_background": "light"
     },
     "output_type": "display_data"
    }
   ],
   "source": [
    "fig, ax = plt.subplots(figsize=(15, 8))\n",
    "feature_importances.plot(kind='barh', color='steelblue');"
   ]
  },
  {
   "cell_type": "markdown",
   "metadata": {},
   "source": [
    "**Although there were a few features that might have impact on employee retention, based on the model, it seemed like salary is the dominated factor among all. The join quarter, which was deemed a supplemental factor for salary.**"
   ]
  },
  {
   "cell_type": "code",
   "execution_count": 397,
   "metadata": {},
   "outputs": [
    {
     "data": {
      "image/png": "[encoded data removed]",
      "text/plain": [
       "<Figure size 1152x720 with 1 Axes>"
      ]
     },
     "metadata": {
      "needs_background": "light"
     },
     "output_type": "display_data"
    }
   ],
   "source": [
    "fig, ax = plt.subplots(figsize=(16, 10))\n",
    "tree.plot_tree(clf, filled=True, fontsize=10, ax=ax, feature_names=feature_names, class_names=['not quit', 'quit']);"
   ]
  },
  {
   "cell_type": "markdown",
   "metadata": {},
   "source": [
    "**The model suggested people who made more than 246,500 dollars a year were less likely to churn, which made perfect sense. For those who did not, if their income was greater or equal to 58,502 dollars ($\\sqrt{3422499968}=58502$), the chance of churning was higher than the other group. Addiontionally, if an employee joined a company before Q4, they were more likely to quit.**"
   ]
  },
  {
   "cell_type": "markdown",
   "metadata": {},
   "source": [
    "# Neural Network"
   ]
  },
  {
   "cell_type": "markdown",
   "metadata": {},
   "source": [
    "**The decision tree works well for intepreting which factors are the main drivers of employee retention. However, the model alone could not predict when the employee will quit. The neural network model, on the other hand, works more like a black box that is very difficult to interprete, but it could be complied to predict both wether and when an employee will leave.**"
   ]
  },
  {
   "cell_type": "markdown",
   "metadata": {},
   "source": [
    "**To predict when an employee will leave, the feature tenure_month is created to represent the duration of a job.**"
   ]
  },
  {
   "cell_type": "code",
   "execution_count": 13,
   "metadata": {},
   "outputs": [],
   "source": [
    "from sklearn.preprocessing import LabelEncoder\n",
    "from sklearn.model_selection import train_test_split\n",
    "from sklearn.metrics import mean_absolute_error\n",
    "from sklearn.metrics import accuracy_score\n",
    "\n",
    "import tensorflow as tf\n",
    "from tensorflow.keras.layers import Dense\n",
    "from tensorflow.keras import Sequential \n",
    "from tensorflow.keras.layers import Input \n",
    "from tensorflow.keras.models import Model\n",
    "from tensorflow.keras.utils import plot_model\n",
    "from tensorflow.keras.models import Sequential"
   ]
  },
  {
   "cell_type": "code",
   "execution_count": 436,
   "metadata": {},
   "outputs": [],
   "source": [
    "data[['salary_square_scaled']] = MinMaxScaler().fit_transform(data[['salary_square']])\n",
    "data[['seniority_sqrt_scaled']] = MinMaxScaler().fit_transform(data[['seniority_sqrt']])\n",
    "data[['tenure_month_scaled']] = MinMaxScaler().fit_transform(data[['tenure_month']])"
   ]
  },
  {
   "cell_type": "code",
   "execution_count": 426,
   "metadata": {},
   "outputs": [],
   "source": [
    "feature_names = ['company_id','dept','seniority_scaled','salary_scaled','seniority_sqrt_scaled','join_quarter',\n",
    "                 'salary_square_scaled','jobs_changed']"
   ]
  },
  {
   "cell_type": "code",
   "execution_count": 437,
   "metadata": {},
   "outputs": [],
   "source": [
    "X = data[feature_names]\n",
    "y = data['tenure_month_scaled']\n",
    "y_class = data['quit']\n",
    "n_features = X.shape[1]\n",
    "n_class = len(np.unique(y_class))\n",
    "\n",
    "X_train, X_test, y_train, y_test, y_train_class, y_test_class = train_test_split(X, y, y_class, test_size=0.2, random_state=1)"
   ]
  },
  {
   "cell_type": "code",
   "execution_count": 439,
   "metadata": {},
   "outputs": [],
   "source": [
    "model = Sequential()\n",
    "visible = Input(shape=(n_features,))\n",
    "hidden1 = Dense(10, activation='relu', kernel_initializer='he_normal')(visible)\n",
    "hidden2 = Dense(10, activation='relu', kernel_initializer='he_normal')(hidden1)\n",
    "out_reg = Dense(1, activation='linear')(hidden2)\n",
    "out_class = Dense(n_class, activation='softmax')(hidden2)"
   ]
  },
  {
   "cell_type": "code",
   "execution_count": 440,
   "metadata": {
    "scrolled": true
   },
   "outputs": [],
   "source": [
    "model = Model(inputs=visible, outputs=[out_reg, out_class])\n",
    "model.compile(loss=['mean_squared_error', 'sparse_categorical_crossentropy'], optimizer='adam')"
   ]
  },
  {
   "cell_type": "code",
   "execution_count": 441,
   "metadata": {
    "scrolled": true
   },
   "outputs": [
    {
     "name": "stdout",
     "output_type": "stream",
     "text": [
      "Epoch 1/300\n",
      "78/78 - 0s - loss: 1.9218 - dense_82_loss: 1.1729 - dense_83_loss: 0.7489\n",
      "Epoch 2/300\n",
      "78/78 - 0s - loss: 0.8643 - dense_82_loss: 0.1698 - dense_83_loss: 0.6945\n",
      "Epoch 3/300\n",
      "78/78 - 0s - loss: 0.7887 - dense_82_loss: 0.0957 - dense_83_loss: 0.6930\n",
      "Epoch 4/300\n",
      "78/78 - 0s - loss: 0.7700 - dense_82_loss: 0.0782 - dense_83_loss: 0.6918\n",
      "Epoch 5/300\n",
      "78/78 - 0s - loss: 0.7593 - dense_82_loss: 0.0685 - dense_83_loss: 0.6908\n",
      "Epoch 6/300\n",
      "78/78 - 0s - loss: 0.7522 - dense_82_loss: 0.0619 - dense_83_loss: 0.6903\n",
      "Epoch 7/300\n",
      "78/78 - 0s - loss: 0.7471 - dense_82_loss: 0.0573 - dense_83_loss: 0.6898\n",
      "Epoch 8/300\n",
      "78/78 - 0s - loss: 0.7437 - dense_82_loss: 0.0540 - dense_83_loss: 0.6897\n",
      "Epoch 9/300\n",
      "78/78 - 0s - loss: 0.7409 - dense_82_loss: 0.0515 - dense_83_loss: 0.6894\n",
      "Epoch 10/300\n",
      "78/78 - 0s - loss: 0.7388 - dense_82_loss: 0.0494 - dense_83_loss: 0.6894\n",
      "Epoch 11/300\n",
      "78/78 - 0s - loss: 0.7372 - dense_82_loss: 0.0479 - dense_83_loss: 0.6893\n",
      "Epoch 12/300\n",
      "78/78 - 0s - loss: 0.7359 - dense_82_loss: 0.0467 - dense_83_loss: 0.6892\n",
      "Epoch 13/300\n",
      "78/78 - 0s - loss: 0.7350 - dense_82_loss: 0.0458 - dense_83_loss: 0.6892\n",
      "Epoch 14/300\n",
      "78/78 - 0s - loss: 0.7342 - dense_82_loss: 0.0451 - dense_83_loss: 0.6892\n",
      "Epoch 15/300\n",
      "78/78 - 0s - loss: 0.7337 - dense_82_loss: 0.0445 - dense_83_loss: 0.6892\n",
      "Epoch 16/300\n",
      "78/78 - 0s - loss: 0.7332 - dense_82_loss: 0.0441 - dense_83_loss: 0.6891\n",
      "Epoch 17/300\n",
      "78/78 - 0s - loss: 0.7329 - dense_82_loss: 0.0438 - dense_83_loss: 0.6891\n",
      "Epoch 18/300\n",
      "78/78 - 0s - loss: 0.7326 - dense_82_loss: 0.0434 - dense_83_loss: 0.6892\n",
      "Epoch 19/300\n",
      "78/78 - 0s - loss: 0.7323 - dense_82_loss: 0.0433 - dense_83_loss: 0.6890\n",
      "Epoch 20/300\n",
      "78/78 - 0s - loss: 0.7322 - dense_82_loss: 0.0430 - dense_83_loss: 0.6892\n",
      "Epoch 21/300\n",
      "78/78 - 0s - loss: 0.7320 - dense_82_loss: 0.0429 - dense_83_loss: 0.6891\n",
      "Epoch 22/300\n",
      "78/78 - 0s - loss: 0.7317 - dense_82_loss: 0.0427 - dense_83_loss: 0.6891\n",
      "Epoch 23/300\n",
      "78/78 - 0s - loss: 0.7317 - dense_82_loss: 0.0426 - dense_83_loss: 0.6891\n",
      "Epoch 24/300\n",
      "78/78 - 0s - loss: 0.7315 - dense_82_loss: 0.0425 - dense_83_loss: 0.6890\n",
      "Epoch 25/300\n",
      "78/78 - 0s - loss: 0.7315 - dense_82_loss: 0.0423 - dense_83_loss: 0.6891\n",
      "Epoch 26/300\n",
      "78/78 - 0s - loss: 0.7311 - dense_82_loss: 0.0421 - dense_83_loss: 0.6889\n",
      "Epoch 27/300\n",
      "78/78 - 0s - loss: 0.7311 - dense_82_loss: 0.0421 - dense_83_loss: 0.6890\n",
      "Epoch 28/300\n",
      "78/78 - 0s - loss: 0.7313 - dense_82_loss: 0.0420 - dense_83_loss: 0.6892\n",
      "Epoch 29/300\n",
      "78/78 - 0s - loss: 0.7309 - dense_82_loss: 0.0420 - dense_83_loss: 0.6889\n",
      "Epoch 30/300\n",
      "78/78 - 0s - loss: 0.7311 - dense_82_loss: 0.0420 - dense_83_loss: 0.6891\n",
      "Epoch 31/300\n",
      "78/78 - 0s - loss: 0.7309 - dense_82_loss: 0.0420 - dense_83_loss: 0.6889\n",
      "Epoch 32/300\n",
      "78/78 - 0s - loss: 0.7309 - dense_82_loss: 0.0419 - dense_83_loss: 0.6889\n",
      "Epoch 33/300\n",
      "78/78 - 0s - loss: 0.7310 - dense_82_loss: 0.0420 - dense_83_loss: 0.6890\n",
      "Epoch 34/300\n",
      "78/78 - 0s - loss: 0.7311 - dense_82_loss: 0.0418 - dense_83_loss: 0.6893\n",
      "Epoch 35/300\n",
      "78/78 - 0s - loss: 0.7309 - dense_82_loss: 0.0419 - dense_83_loss: 0.6890\n",
      "Epoch 36/300\n",
      "78/78 - 0s - loss: 0.7308 - dense_82_loss: 0.0418 - dense_83_loss: 0.6890\n",
      "Epoch 37/300\n",
      "78/78 - 0s - loss: 0.7306 - dense_82_loss: 0.0418 - dense_83_loss: 0.6888\n",
      "Epoch 38/300\n",
      "78/78 - 0s - loss: 0.7309 - dense_82_loss: 0.0418 - dense_83_loss: 0.6891\n",
      "Epoch 39/300\n",
      "78/78 - 0s - loss: 0.7308 - dense_82_loss: 0.0419 - dense_83_loss: 0.6889\n",
      "Epoch 40/300\n",
      "78/78 - 0s - loss: 0.7307 - dense_82_loss: 0.0417 - dense_83_loss: 0.6890\n",
      "Epoch 41/300\n",
      "78/78 - 0s - loss: 0.7303 - dense_82_loss: 0.0416 - dense_83_loss: 0.6887\n",
      "Epoch 42/300\n",
      "78/78 - 0s - loss: 0.7304 - dense_82_loss: 0.0418 - dense_83_loss: 0.6887\n",
      "Epoch 43/300\n",
      "78/78 - 0s - loss: 0.7304 - dense_82_loss: 0.0417 - dense_83_loss: 0.6887\n",
      "Epoch 44/300\n",
      "78/78 - 0s - loss: 0.7305 - dense_82_loss: 0.0418 - dense_83_loss: 0.6887\n",
      "Epoch 45/300\n",
      "78/78 - 0s - loss: 0.7303 - dense_82_loss: 0.0416 - dense_83_loss: 0.6887\n",
      "Epoch 46/300\n",
      "78/78 - 0s - loss: 0.7306 - dense_82_loss: 0.0418 - dense_83_loss: 0.6888\n",
      "Epoch 47/300\n",
      "78/78 - 0s - loss: 0.7304 - dense_82_loss: 0.0417 - dense_83_loss: 0.6888\n",
      "Epoch 48/300\n",
      "78/78 - 0s - loss: 0.7302 - dense_82_loss: 0.0416 - dense_83_loss: 0.6885\n",
      "Epoch 49/300\n",
      "78/78 - 0s - loss: 0.7302 - dense_82_loss: 0.0416 - dense_83_loss: 0.6886\n",
      "Epoch 50/300\n",
      "78/78 - 0s - loss: 0.7301 - dense_82_loss: 0.0415 - dense_83_loss: 0.6886\n",
      "Epoch 51/300\n",
      "78/78 - 0s - loss: 0.7303 - dense_82_loss: 0.0415 - dense_83_loss: 0.6888\n",
      "Epoch 52/300\n",
      "78/78 - 0s - loss: 0.7302 - dense_82_loss: 0.0415 - dense_83_loss: 0.6887\n",
      "Epoch 53/300\n",
      "78/78 - 0s - loss: 0.7302 - dense_82_loss: 0.0415 - dense_83_loss: 0.6887\n",
      "Epoch 54/300\n",
      "78/78 - 0s - loss: 0.7300 - dense_82_loss: 0.0415 - dense_83_loss: 0.6886\n",
      "Epoch 55/300\n",
      "78/78 - 0s - loss: 0.7298 - dense_82_loss: 0.0415 - dense_83_loss: 0.6883\n",
      "Epoch 56/300\n",
      "78/78 - 0s - loss: 0.7299 - dense_82_loss: 0.0416 - dense_83_loss: 0.6883\n",
      "Epoch 57/300\n",
      "78/78 - 0s - loss: 0.7298 - dense_82_loss: 0.0415 - dense_83_loss: 0.6884\n",
      "Epoch 58/300\n",
      "78/78 - 0s - loss: 0.7299 - dense_82_loss: 0.0415 - dense_83_loss: 0.6884\n",
      "Epoch 59/300\n",
      "78/78 - 0s - loss: 0.7299 - dense_82_loss: 0.0414 - dense_83_loss: 0.6885\n",
      "Epoch 60/300\n",
      "78/78 - 0s - loss: 0.7300 - dense_82_loss: 0.0415 - dense_83_loss: 0.6885\n",
      "Epoch 61/300\n",
      "78/78 - 0s - loss: 0.7300 - dense_82_loss: 0.0417 - dense_83_loss: 0.6883\n",
      "Epoch 62/300\n",
      "78/78 - 0s - loss: 0.7298 - dense_82_loss: 0.0416 - dense_83_loss: 0.6882\n",
      "Epoch 63/300\n",
      "78/78 - 0s - loss: 0.7296 - dense_82_loss: 0.0415 - dense_83_loss: 0.6881\n",
      "Epoch 64/300\n",
      "78/78 - 0s - loss: 0.7297 - dense_82_loss: 0.0414 - dense_83_loss: 0.6883\n",
      "Epoch 65/300\n",
      "78/78 - 0s - loss: 0.7297 - dense_82_loss: 0.0414 - dense_83_loss: 0.6883\n",
      "Epoch 66/300\n",
      "78/78 - 0s - loss: 0.7294 - dense_82_loss: 0.0414 - dense_83_loss: 0.6880\n",
      "Epoch 67/300\n",
      "78/78 - 0s - loss: 0.7292 - dense_82_loss: 0.0413 - dense_83_loss: 0.6879\n",
      "Epoch 68/300\n",
      "78/78 - 0s - loss: 0.7295 - dense_82_loss: 0.0415 - dense_83_loss: 0.6880\n",
      "Epoch 69/300\n",
      "78/78 - 0s - loss: 0.7297 - dense_82_loss: 0.0413 - dense_83_loss: 0.6883\n",
      "Epoch 70/300\n",
      "78/78 - 0s - loss: 0.7294 - dense_82_loss: 0.0413 - dense_83_loss: 0.6881\n",
      "Epoch 71/300\n",
      "78/78 - 0s - loss: 0.7295 - dense_82_loss: 0.0415 - dense_83_loss: 0.6880\n",
      "Epoch 72/300\n",
      "78/78 - 0s - loss: 0.7294 - dense_82_loss: 0.0414 - dense_83_loss: 0.6880\n",
      "Epoch 73/300\n",
      "78/78 - 0s - loss: 0.7295 - dense_82_loss: 0.0414 - dense_83_loss: 0.6881\n",
      "Epoch 74/300\n",
      "78/78 - 0s - loss: 0.7293 - dense_82_loss: 0.0414 - dense_83_loss: 0.6879\n",
      "Epoch 75/300\n",
      "78/78 - 0s - loss: 0.7292 - dense_82_loss: 0.0413 - dense_83_loss: 0.6879\n",
      "Epoch 76/300\n",
      "78/78 - 0s - loss: 0.7296 - dense_82_loss: 0.0413 - dense_83_loss: 0.6883\n",
      "Epoch 77/300\n",
      "78/78 - 0s - loss: 0.7298 - dense_82_loss: 0.0417 - dense_83_loss: 0.6881\n",
      "Epoch 78/300\n",
      "78/78 - 0s - loss: 0.7296 - dense_82_loss: 0.0414 - dense_83_loss: 0.6882\n",
      "Epoch 79/300\n",
      "78/78 - 0s - loss: 0.7293 - dense_82_loss: 0.0414 - dense_83_loss: 0.6879\n",
      "Epoch 80/300\n",
      "78/78 - 0s - loss: 0.7294 - dense_82_loss: 0.0414 - dense_83_loss: 0.6880\n",
      "Epoch 81/300\n",
      "78/78 - 0s - loss: 0.7295 - dense_82_loss: 0.0414 - dense_83_loss: 0.6880\n",
      "Epoch 82/300\n",
      "78/78 - 0s - loss: 0.7292 - dense_82_loss: 0.0413 - dense_83_loss: 0.6879\n",
      "Epoch 83/300\n",
      "78/78 - 0s - loss: 0.7294 - dense_82_loss: 0.0414 - dense_83_loss: 0.6880\n",
      "Epoch 84/300\n",
      "78/78 - 0s - loss: 0.7296 - dense_82_loss: 0.0415 - dense_83_loss: 0.6880\n",
      "Epoch 85/300\n",
      "78/78 - 0s - loss: 0.7294 - dense_82_loss: 0.0413 - dense_83_loss: 0.6880\n",
      "Epoch 86/300\n",
      "78/78 - 0s - loss: 0.7293 - dense_82_loss: 0.0414 - dense_83_loss: 0.6878\n",
      "Epoch 87/300\n",
      "78/78 - 0s - loss: 0.7292 - dense_82_loss: 0.0414 - dense_83_loss: 0.6879\n",
      "Epoch 88/300\n",
      "78/78 - 0s - loss: 0.7293 - dense_82_loss: 0.0413 - dense_83_loss: 0.6880\n",
      "Epoch 89/300\n",
      "78/78 - 0s - loss: 0.7292 - dense_82_loss: 0.0414 - dense_83_loss: 0.6878\n",
      "Epoch 90/300\n",
      "78/78 - 0s - loss: 0.7292 - dense_82_loss: 0.0414 - dense_83_loss: 0.6878\n",
      "Epoch 91/300\n",
      "78/78 - 0s - loss: 0.7291 - dense_82_loss: 0.0414 - dense_83_loss: 0.6877\n",
      "Epoch 92/300\n",
      "78/78 - 0s - loss: 0.7294 - dense_82_loss: 0.0413 - dense_83_loss: 0.6881\n",
      "Epoch 93/300\n",
      "78/78 - 0s - loss: 0.7292 - dense_82_loss: 0.0413 - dense_83_loss: 0.6879\n",
      "Epoch 94/300\n",
      "78/78 - 0s - loss: 0.7292 - dense_82_loss: 0.0414 - dense_83_loss: 0.6878\n",
      "Epoch 95/300\n",
      "78/78 - 0s - loss: 0.7293 - dense_82_loss: 0.0417 - dense_83_loss: 0.6876\n"
     ]
    },
    {
     "name": "stdout",
     "output_type": "stream",
     "text": [
      "Epoch 96/300\n",
      "78/78 - 0s - loss: 0.7292 - dense_82_loss: 0.0414 - dense_83_loss: 0.6879\n",
      "Epoch 97/300\n",
      "78/78 - 0s - loss: 0.7295 - dense_82_loss: 0.0415 - dense_83_loss: 0.6879\n",
      "Epoch 98/300\n",
      "78/78 - 0s - loss: 0.7290 - dense_82_loss: 0.0414 - dense_83_loss: 0.6876\n",
      "Epoch 99/300\n",
      "78/78 - 0s - loss: 0.7292 - dense_82_loss: 0.0414 - dense_83_loss: 0.6878\n",
      "Epoch 100/300\n",
      "78/78 - 0s - loss: 0.7291 - dense_82_loss: 0.0413 - dense_83_loss: 0.6878\n",
      "Epoch 101/300\n",
      "78/78 - 0s - loss: 0.7293 - dense_82_loss: 0.0413 - dense_83_loss: 0.6880\n",
      "Epoch 102/300\n",
      "78/78 - 0s - loss: 0.7288 - dense_82_loss: 0.0413 - dense_83_loss: 0.6875\n",
      "Epoch 103/300\n",
      "78/78 - 0s - loss: 0.7292 - dense_82_loss: 0.0414 - dense_83_loss: 0.6878\n",
      "Epoch 104/300\n",
      "78/78 - 0s - loss: 0.7289 - dense_82_loss: 0.0413 - dense_83_loss: 0.6875\n",
      "Epoch 105/300\n",
      "78/78 - 0s - loss: 0.7290 - dense_82_loss: 0.0415 - dense_83_loss: 0.6876\n",
      "Epoch 106/300\n",
      "78/78 - 0s - loss: 0.7287 - dense_82_loss: 0.0413 - dense_83_loss: 0.6874\n",
      "Epoch 107/300\n",
      "78/78 - 0s - loss: 0.7288 - dense_82_loss: 0.0413 - dense_83_loss: 0.6875\n",
      "Epoch 108/300\n",
      "78/78 - 0s - loss: 0.7290 - dense_82_loss: 0.0415 - dense_83_loss: 0.6874\n",
      "Epoch 109/300\n",
      "78/78 - 0s - loss: 0.7288 - dense_82_loss: 0.0414 - dense_83_loss: 0.6874\n",
      "Epoch 110/300\n",
      "78/78 - 0s - loss: 0.7288 - dense_82_loss: 0.0414 - dense_83_loss: 0.6873\n",
      "Epoch 111/300\n",
      "78/78 - 0s - loss: 0.7287 - dense_82_loss: 0.0415 - dense_83_loss: 0.6873\n",
      "Epoch 112/300\n",
      "78/78 - 0s - loss: 0.7289 - dense_82_loss: 0.0415 - dense_83_loss: 0.6874\n",
      "Epoch 113/300\n",
      "78/78 - 0s - loss: 0.7287 - dense_82_loss: 0.0414 - dense_83_loss: 0.6873\n",
      "Epoch 114/300\n",
      "78/78 - 0s - loss: 0.7287 - dense_82_loss: 0.0416 - dense_83_loss: 0.6871\n",
      "Epoch 115/300\n",
      "78/78 - 0s - loss: 0.7285 - dense_82_loss: 0.0413 - dense_83_loss: 0.6872\n",
      "Epoch 116/300\n",
      "78/78 - 0s - loss: 0.7285 - dense_82_loss: 0.0415 - dense_83_loss: 0.6870\n",
      "Epoch 117/300\n",
      "78/78 - 0s - loss: 0.7284 - dense_82_loss: 0.0413 - dense_83_loss: 0.6871\n",
      "Epoch 118/300\n",
      "78/78 - 0s - loss: 0.7287 - dense_82_loss: 0.0416 - dense_83_loss: 0.6870\n",
      "Epoch 119/300\n",
      "78/78 - 0s - loss: 0.7280 - dense_82_loss: 0.0414 - dense_83_loss: 0.6867\n",
      "Epoch 120/300\n",
      "78/78 - 0s - loss: 0.7283 - dense_82_loss: 0.0414 - dense_83_loss: 0.6869\n",
      "Epoch 121/300\n",
      "78/78 - 0s - loss: 0.7282 - dense_82_loss: 0.0414 - dense_83_loss: 0.6869\n",
      "Epoch 122/300\n",
      "78/78 - 0s - loss: 0.7282 - dense_82_loss: 0.0415 - dense_83_loss: 0.6867\n",
      "Epoch 123/300\n",
      "78/78 - 0s - loss: 0.7279 - dense_82_loss: 0.0413 - dense_83_loss: 0.6866\n",
      "Epoch 124/300\n",
      "78/78 - 0s - loss: 0.7282 - dense_82_loss: 0.0415 - dense_83_loss: 0.6867\n",
      "Epoch 125/300\n",
      "78/78 - 0s - loss: 0.7285 - dense_82_loss: 0.0415 - dense_83_loss: 0.6870\n",
      "Epoch 126/300\n",
      "78/78 - 0s - loss: 0.7282 - dense_82_loss: 0.0414 - dense_83_loss: 0.6869\n",
      "Epoch 127/300\n",
      "78/78 - 0s - loss: 0.7276 - dense_82_loss: 0.0414 - dense_83_loss: 0.6862\n",
      "Epoch 128/300\n",
      "78/78 - 0s - loss: 0.7276 - dense_82_loss: 0.0414 - dense_83_loss: 0.6862\n",
      "Epoch 129/300\n",
      "78/78 - 0s - loss: 0.7277 - dense_82_loss: 0.0413 - dense_83_loss: 0.6864\n",
      "Epoch 130/300\n",
      "78/78 - 0s - loss: 0.7275 - dense_82_loss: 0.0414 - dense_83_loss: 0.6861\n",
      "Epoch 131/300\n",
      "78/78 - 0s - loss: 0.7276 - dense_82_loss: 0.0414 - dense_83_loss: 0.6862\n",
      "Epoch 132/300\n",
      "78/78 - 0s - loss: 0.7279 - dense_82_loss: 0.0416 - dense_83_loss: 0.6863\n",
      "Epoch 133/300\n",
      "78/78 - 0s - loss: 0.7274 - dense_82_loss: 0.0413 - dense_83_loss: 0.6861\n",
      "Epoch 134/300\n",
      "78/78 - 0s - loss: 0.7275 - dense_82_loss: 0.0415 - dense_83_loss: 0.6860\n",
      "Epoch 135/300\n",
      "78/78 - 0s - loss: 0.7275 - dense_82_loss: 0.0413 - dense_83_loss: 0.6862\n",
      "Epoch 136/300\n",
      "78/78 - 0s - loss: 0.7275 - dense_82_loss: 0.0414 - dense_83_loss: 0.6861\n",
      "Epoch 137/300\n",
      "78/78 - 0s - loss: 0.7272 - dense_82_loss: 0.0414 - dense_83_loss: 0.6858\n",
      "Epoch 138/300\n",
      "78/78 - 0s - loss: 0.7270 - dense_82_loss: 0.0413 - dense_83_loss: 0.6857\n",
      "Epoch 139/300\n",
      "78/78 - 0s - loss: 0.7270 - dense_82_loss: 0.0413 - dense_83_loss: 0.6856\n",
      "Epoch 140/300\n",
      "78/78 - 0s - loss: 0.7268 - dense_82_loss: 0.0412 - dense_83_loss: 0.6855\n",
      "Epoch 141/300\n",
      "78/78 - 0s - loss: 0.7271 - dense_82_loss: 0.0413 - dense_83_loss: 0.6858\n",
      "Epoch 142/300\n",
      "78/78 - 0s - loss: 0.7270 - dense_82_loss: 0.0414 - dense_83_loss: 0.6856\n",
      "Epoch 143/300\n",
      "78/78 - 0s - loss: 0.7272 - dense_82_loss: 0.0415 - dense_83_loss: 0.6857\n",
      "Epoch 144/300\n",
      "78/78 - 0s - loss: 0.7271 - dense_82_loss: 0.0416 - dense_83_loss: 0.6855\n",
      "Epoch 145/300\n",
      "78/78 - 0s - loss: 0.7269 - dense_82_loss: 0.0414 - dense_83_loss: 0.6856\n",
      "Epoch 146/300\n",
      "78/78 - 0s - loss: 0.7269 - dense_82_loss: 0.0414 - dense_83_loss: 0.6855\n",
      "Epoch 147/300\n",
      "78/78 - 0s - loss: 0.7268 - dense_82_loss: 0.0413 - dense_83_loss: 0.6855\n",
      "Epoch 148/300\n",
      "78/78 - 0s - loss: 0.7270 - dense_82_loss: 0.0417 - dense_83_loss: 0.6854\n",
      "Epoch 149/300\n",
      "78/78 - 0s - loss: 0.7270 - dense_82_loss: 0.0416 - dense_83_loss: 0.6854\n",
      "Epoch 150/300\n",
      "78/78 - 0s - loss: 0.7267 - dense_82_loss: 0.0414 - dense_83_loss: 0.6853\n",
      "Epoch 151/300\n",
      "78/78 - 0s - loss: 0.7269 - dense_82_loss: 0.0414 - dense_83_loss: 0.6856\n",
      "Epoch 152/300\n",
      "78/78 - 0s - loss: 0.7269 - dense_82_loss: 0.0414 - dense_83_loss: 0.6855\n",
      "Epoch 153/300\n",
      "78/78 - 0s - loss: 0.7266 - dense_82_loss: 0.0413 - dense_83_loss: 0.6853\n",
      "Epoch 154/300\n",
      "78/78 - 0s - loss: 0.7267 - dense_82_loss: 0.0413 - dense_83_loss: 0.6853\n",
      "Epoch 155/300\n",
      "78/78 - 0s - loss: 0.7267 - dense_82_loss: 0.0413 - dense_83_loss: 0.6854\n",
      "Epoch 156/300\n",
      "78/78 - 0s - loss: 0.7267 - dense_82_loss: 0.0412 - dense_83_loss: 0.6855\n",
      "Epoch 157/300\n",
      "78/78 - 0s - loss: 0.7267 - dense_82_loss: 0.0415 - dense_83_loss: 0.6852\n",
      "Epoch 158/300\n",
      "78/78 - 0s - loss: 0.7266 - dense_82_loss: 0.0414 - dense_83_loss: 0.6852\n",
      "Epoch 159/300\n",
      "78/78 - 0s - loss: 0.7266 - dense_82_loss: 0.0413 - dense_83_loss: 0.6853\n",
      "Epoch 160/300\n",
      "78/78 - 0s - loss: 0.7270 - dense_82_loss: 0.0413 - dense_83_loss: 0.6858\n",
      "Epoch 161/300\n",
      "78/78 - 0s - loss: 0.7269 - dense_82_loss: 0.0414 - dense_83_loss: 0.6855\n",
      "Epoch 162/300\n",
      "78/78 - 0s - loss: 0.7267 - dense_82_loss: 0.0413 - dense_83_loss: 0.6854\n",
      "Epoch 163/300\n",
      "78/78 - 0s - loss: 0.7265 - dense_82_loss: 0.0412 - dense_83_loss: 0.6853\n",
      "Epoch 164/300\n",
      "78/78 - 0s - loss: 0.7265 - dense_82_loss: 0.0412 - dense_83_loss: 0.6853\n",
      "Epoch 165/300\n",
      "78/78 - 0s - loss: 0.7266 - dense_82_loss: 0.0413 - dense_83_loss: 0.6853\n",
      "Epoch 166/300\n",
      "78/78 - 0s - loss: 0.7266 - dense_82_loss: 0.0413 - dense_83_loss: 0.6853\n",
      "Epoch 167/300\n",
      "78/78 - 0s - loss: 0.7265 - dense_82_loss: 0.0414 - dense_83_loss: 0.6851\n",
      "Epoch 168/300\n",
      "78/78 - 0s - loss: 0.7266 - dense_82_loss: 0.0414 - dense_83_loss: 0.6852\n",
      "Epoch 169/300\n",
      "78/78 - 0s - loss: 0.7265 - dense_82_loss: 0.0414 - dense_83_loss: 0.6851\n",
      "Epoch 170/300\n",
      "78/78 - 0s - loss: 0.7265 - dense_82_loss: 0.0411 - dense_83_loss: 0.6853\n",
      "Epoch 171/300\n",
      "78/78 - 0s - loss: 0.7264 - dense_82_loss: 0.0412 - dense_83_loss: 0.6853\n",
      "Epoch 172/300\n",
      "78/78 - 0s - loss: 0.7265 - dense_82_loss: 0.0413 - dense_83_loss: 0.6852\n",
      "Epoch 173/300\n",
      "78/78 - 0s - loss: 0.7269 - dense_82_loss: 0.0416 - dense_83_loss: 0.6853\n",
      "Epoch 174/300\n",
      "78/78 - 0s - loss: 0.7263 - dense_82_loss: 0.0412 - dense_83_loss: 0.6851\n",
      "Epoch 175/300\n",
      "78/78 - 0s - loss: 0.7267 - dense_82_loss: 0.0415 - dense_83_loss: 0.6853\n",
      "Epoch 176/300\n",
      "78/78 - 0s - loss: 0.7265 - dense_82_loss: 0.0414 - dense_83_loss: 0.6851\n",
      "Epoch 177/300\n",
      "78/78 - 0s - loss: 0.7264 - dense_82_loss: 0.0411 - dense_83_loss: 0.6853\n",
      "Epoch 178/300\n",
      "78/78 - 0s - loss: 0.7264 - dense_82_loss: 0.0412 - dense_83_loss: 0.6852\n",
      "Epoch 179/300\n",
      "78/78 - 0s - loss: 0.7263 - dense_82_loss: 0.0412 - dense_83_loss: 0.6851\n",
      "Epoch 180/300\n",
      "78/78 - 0s - loss: 0.7264 - dense_82_loss: 0.0412 - dense_83_loss: 0.6852\n",
      "Epoch 181/300\n",
      "78/78 - 0s - loss: 0.7263 - dense_82_loss: 0.0413 - dense_83_loss: 0.6850\n",
      "Epoch 182/300\n",
      "78/78 - 0s - loss: 0.7265 - dense_82_loss: 0.0412 - dense_83_loss: 0.6853\n",
      "Epoch 183/300\n",
      "78/78 - 0s - loss: 0.7265 - dense_82_loss: 0.0414 - dense_83_loss: 0.6851\n",
      "Epoch 184/300\n",
      "78/78 - 0s - loss: 0.7264 - dense_82_loss: 0.0413 - dense_83_loss: 0.6851\n",
      "Epoch 185/300\n",
      "78/78 - 0s - loss: 0.7262 - dense_82_loss: 0.0412 - dense_83_loss: 0.6851\n",
      "Epoch 186/300\n",
      "78/78 - 0s - loss: 0.7265 - dense_82_loss: 0.0413 - dense_83_loss: 0.6852\n",
      "Epoch 187/300\n",
      "78/78 - 0s - loss: 0.7264 - dense_82_loss: 0.0413 - dense_83_loss: 0.6851\n",
      "Epoch 188/300\n",
      "78/78 - 0s - loss: 0.7262 - dense_82_loss: 0.0411 - dense_83_loss: 0.6852\n",
      "Epoch 189/300\n",
      "78/78 - 0s - loss: 0.7264 - dense_82_loss: 0.0413 - dense_83_loss: 0.6851\n"
     ]
    },
    {
     "name": "stdout",
     "output_type": "stream",
     "text": [
      "Epoch 190/300\n",
      "78/78 - 0s - loss: 0.7265 - dense_82_loss: 0.0413 - dense_83_loss: 0.6851\n",
      "Epoch 191/300\n",
      "78/78 - 0s - loss: 0.7262 - dense_82_loss: 0.0413 - dense_83_loss: 0.6849\n",
      "Epoch 192/300\n",
      "78/78 - 0s - loss: 0.7265 - dense_82_loss: 0.0413 - dense_83_loss: 0.6852\n",
      "Epoch 193/300\n",
      "78/78 - 0s - loss: 0.7263 - dense_82_loss: 0.0412 - dense_83_loss: 0.6850\n",
      "Epoch 194/300\n",
      "78/78 - 0s - loss: 0.7262 - dense_82_loss: 0.0411 - dense_83_loss: 0.6851\n",
      "Epoch 195/300\n",
      "78/78 - 0s - loss: 0.7264 - dense_82_loss: 0.0415 - dense_83_loss: 0.6849\n",
      "Epoch 196/300\n",
      "78/78 - 0s - loss: 0.7261 - dense_82_loss: 0.0412 - dense_83_loss: 0.6850\n",
      "Epoch 197/300\n",
      "78/78 - 0s - loss: 0.7261 - dense_82_loss: 0.0412 - dense_83_loss: 0.6849\n",
      "Epoch 198/300\n",
      "78/78 - 0s - loss: 0.7269 - dense_82_loss: 0.0416 - dense_83_loss: 0.6853\n",
      "Epoch 199/300\n",
      "78/78 - 0s - loss: 0.7260 - dense_82_loss: 0.0411 - dense_83_loss: 0.6848\n",
      "Epoch 200/300\n",
      "78/78 - 0s - loss: 0.7261 - dense_82_loss: 0.0413 - dense_83_loss: 0.6849\n",
      "Epoch 201/300\n",
      "78/78 - 0s - loss: 0.7259 - dense_82_loss: 0.0412 - dense_83_loss: 0.6847\n",
      "Epoch 202/300\n",
      "78/78 - 0s - loss: 0.7260 - dense_82_loss: 0.0411 - dense_83_loss: 0.6849\n",
      "Epoch 203/300\n",
      "78/78 - 0s - loss: 0.7262 - dense_82_loss: 0.0412 - dense_83_loss: 0.6850\n",
      "Epoch 204/300\n",
      "78/78 - 0s - loss: 0.7259 - dense_82_loss: 0.0412 - dense_83_loss: 0.6847\n",
      "Epoch 205/300\n",
      "78/78 - 0s - loss: 0.7259 - dense_82_loss: 0.0412 - dense_83_loss: 0.6847\n",
      "Epoch 206/300\n",
      "78/78 - 0s - loss: 0.7260 - dense_82_loss: 0.0412 - dense_83_loss: 0.6849\n",
      "Epoch 207/300\n",
      "78/78 - 0s - loss: 0.7264 - dense_82_loss: 0.0415 - dense_83_loss: 0.6849\n",
      "Epoch 208/300\n",
      "78/78 - 0s - loss: 0.7261 - dense_82_loss: 0.0411 - dense_83_loss: 0.6850\n",
      "Epoch 209/300\n",
      "78/78 - 0s - loss: 0.7260 - dense_82_loss: 0.0411 - dense_83_loss: 0.6849\n",
      "Epoch 210/300\n",
      "78/78 - 0s - loss: 0.7262 - dense_82_loss: 0.0413 - dense_83_loss: 0.6849\n",
      "Epoch 211/300\n",
      "78/78 - 0s - loss: 0.7260 - dense_82_loss: 0.0413 - dense_83_loss: 0.6848\n",
      "Epoch 212/300\n",
      "78/78 - 0s - loss: 0.7257 - dense_82_loss: 0.0411 - dense_83_loss: 0.6847\n",
      "Epoch 213/300\n",
      "78/78 - 0s - loss: 0.7260 - dense_82_loss: 0.0410 - dense_83_loss: 0.6850\n",
      "Epoch 214/300\n",
      "78/78 - 0s - loss: 0.7261 - dense_82_loss: 0.0411 - dense_83_loss: 0.6850\n",
      "Epoch 215/300\n",
      "78/78 - 0s - loss: 0.7261 - dense_82_loss: 0.0412 - dense_83_loss: 0.6849\n",
      "Epoch 216/300\n",
      "78/78 - 0s - loss: 0.7261 - dense_82_loss: 0.0413 - dense_83_loss: 0.6848\n",
      "Epoch 217/300\n",
      "78/78 - 0s - loss: 0.7259 - dense_82_loss: 0.0412 - dense_83_loss: 0.6847\n",
      "Epoch 218/300\n",
      "78/78 - 0s - loss: 0.7259 - dense_82_loss: 0.0411 - dense_83_loss: 0.6848\n",
      "Epoch 219/300\n",
      "78/78 - 0s - loss: 0.7260 - dense_82_loss: 0.0413 - dense_83_loss: 0.6847\n",
      "Epoch 220/300\n",
      "78/78 - 0s - loss: 0.7256 - dense_82_loss: 0.0410 - dense_83_loss: 0.6846\n",
      "Epoch 221/300\n",
      "78/78 - 0s - loss: 0.7259 - dense_82_loss: 0.0412 - dense_83_loss: 0.6847\n",
      "Epoch 222/300\n",
      "78/78 - 0s - loss: 0.7259 - dense_82_loss: 0.0412 - dense_83_loss: 0.6847\n",
      "Epoch 223/300\n",
      "78/78 - 0s - loss: 0.7258 - dense_82_loss: 0.0412 - dense_83_loss: 0.6846\n",
      "Epoch 224/300\n",
      "78/78 - 0s - loss: 0.7261 - dense_82_loss: 0.0412 - dense_83_loss: 0.6848\n",
      "Epoch 225/300\n",
      "78/78 - 0s - loss: 0.7259 - dense_82_loss: 0.0412 - dense_83_loss: 0.6847\n",
      "Epoch 226/300\n",
      "78/78 - 0s - loss: 0.7258 - dense_82_loss: 0.0412 - dense_83_loss: 0.6846\n",
      "Epoch 227/300\n",
      "78/78 - 0s - loss: 0.7258 - dense_82_loss: 0.0412 - dense_83_loss: 0.6847\n",
      "Epoch 228/300\n",
      "78/78 - 0s - loss: 0.7258 - dense_82_loss: 0.0411 - dense_83_loss: 0.6847\n",
      "Epoch 229/300\n",
      "78/78 - 0s - loss: 0.7256 - dense_82_loss: 0.0412 - dense_83_loss: 0.6844\n",
      "Epoch 230/300\n",
      "78/78 - 0s - loss: 0.7259 - dense_82_loss: 0.0412 - dense_83_loss: 0.6847\n",
      "Epoch 231/300\n",
      "78/78 - 0s - loss: 0.7255 - dense_82_loss: 0.0412 - dense_83_loss: 0.6844\n",
      "Epoch 232/300\n",
      "78/78 - 0s - loss: 0.7257 - dense_82_loss: 0.0412 - dense_83_loss: 0.6845\n",
      "Epoch 233/300\n",
      "78/78 - 0s - loss: 0.7256 - dense_82_loss: 0.0411 - dense_83_loss: 0.6845\n",
      "Epoch 234/300\n",
      "78/78 - 0s - loss: 0.7256 - dense_82_loss: 0.0411 - dense_83_loss: 0.6844\n",
      "Epoch 235/300\n",
      "78/78 - 0s - loss: 0.7257 - dense_82_loss: 0.0411 - dense_83_loss: 0.6846\n",
      "Epoch 236/300\n",
      "78/78 - 0s - loss: 0.7256 - dense_82_loss: 0.0413 - dense_83_loss: 0.6843\n",
      "Epoch 237/300\n",
      "78/78 - 0s - loss: 0.7258 - dense_82_loss: 0.0412 - dense_83_loss: 0.6846\n",
      "Epoch 238/300\n",
      "78/78 - 0s - loss: 0.7258 - dense_82_loss: 0.0412 - dense_83_loss: 0.6846\n",
      "Epoch 239/300\n",
      "78/78 - 0s - loss: 0.7255 - dense_82_loss: 0.0413 - dense_83_loss: 0.6842\n",
      "Epoch 240/300\n",
      "78/78 - 0s - loss: 0.7256 - dense_82_loss: 0.0411 - dense_83_loss: 0.6845\n",
      "Epoch 241/300\n",
      "78/78 - 0s - loss: 0.7259 - dense_82_loss: 0.0414 - dense_83_loss: 0.6846\n",
      "Epoch 242/300\n",
      "78/78 - 0s - loss: 0.7257 - dense_82_loss: 0.0413 - dense_83_loss: 0.6844\n",
      "Epoch 243/300\n",
      "78/78 - 0s - loss: 0.7257 - dense_82_loss: 0.0412 - dense_83_loss: 0.6846\n",
      "Epoch 244/300\n",
      "78/78 - 0s - loss: 0.7259 - dense_82_loss: 0.0411 - dense_83_loss: 0.6848\n",
      "Epoch 245/300\n",
      "78/78 - 0s - loss: 0.7258 - dense_82_loss: 0.0412 - dense_83_loss: 0.6846\n",
      "Epoch 246/300\n",
      "78/78 - 0s - loss: 0.7257 - dense_82_loss: 0.0411 - dense_83_loss: 0.6846\n",
      "Epoch 247/300\n",
      "78/78 - 0s - loss: 0.7257 - dense_82_loss: 0.0412 - dense_83_loss: 0.6845\n",
      "Epoch 248/300\n",
      "78/78 - 0s - loss: 0.7260 - dense_82_loss: 0.0411 - dense_83_loss: 0.6849\n",
      "Epoch 249/300\n",
      "78/78 - 0s - loss: 0.7254 - dense_82_loss: 0.0411 - dense_83_loss: 0.6843\n",
      "Epoch 250/300\n",
      "78/78 - 0s - loss: 0.7255 - dense_82_loss: 0.0411 - dense_83_loss: 0.6843\n",
      "Epoch 251/300\n",
      "78/78 - 0s - loss: 0.7254 - dense_82_loss: 0.0412 - dense_83_loss: 0.6842\n",
      "Epoch 252/300\n",
      "78/78 - 0s - loss: 0.7256 - dense_82_loss: 0.0414 - dense_83_loss: 0.6842\n",
      "Epoch 253/300\n",
      "78/78 - 0s - loss: 0.7253 - dense_82_loss: 0.0411 - dense_83_loss: 0.6842\n",
      "Epoch 254/300\n",
      "78/78 - 0s - loss: 0.7254 - dense_82_loss: 0.0411 - dense_83_loss: 0.6844\n",
      "Epoch 255/300\n",
      "78/78 - 0s - loss: 0.7253 - dense_82_loss: 0.0411 - dense_83_loss: 0.6843\n",
      "Epoch 256/300\n",
      "78/78 - 0s - loss: 0.7257 - dense_82_loss: 0.0411 - dense_83_loss: 0.6846\n",
      "Epoch 257/300\n",
      "78/78 - 0s - loss: 0.7253 - dense_82_loss: 0.0411 - dense_83_loss: 0.6843\n",
      "Epoch 258/300\n",
      "78/78 - 0s - loss: 0.7257 - dense_82_loss: 0.0413 - dense_83_loss: 0.6844\n",
      "Epoch 259/300\n",
      "78/78 - 0s - loss: 0.7256 - dense_82_loss: 0.0413 - dense_83_loss: 0.6843\n",
      "Epoch 260/300\n",
      "78/78 - 0s - loss: 0.7254 - dense_82_loss: 0.0411 - dense_83_loss: 0.6843\n",
      "Epoch 261/300\n",
      "78/78 - 0s - loss: 0.7253 - dense_82_loss: 0.0410 - dense_83_loss: 0.6842\n",
      "Epoch 262/300\n",
      "78/78 - 0s - loss: 0.7252 - dense_82_loss: 0.0411 - dense_83_loss: 0.6841\n",
      "Epoch 263/300\n",
      "78/78 - 0s - loss: 0.7251 - dense_82_loss: 0.0410 - dense_83_loss: 0.6841\n",
      "Epoch 264/300\n",
      "78/78 - 0s - loss: 0.7253 - dense_82_loss: 0.0410 - dense_83_loss: 0.6843\n",
      "Epoch 265/300\n",
      "78/78 - 0s - loss: 0.7254 - dense_82_loss: 0.0412 - dense_83_loss: 0.6842\n",
      "Epoch 266/300\n",
      "78/78 - 0s - loss: 0.7253 - dense_82_loss: 0.0411 - dense_83_loss: 0.6842\n",
      "Epoch 267/300\n",
      "78/78 - 0s - loss: 0.7254 - dense_82_loss: 0.0411 - dense_83_loss: 0.6843\n",
      "Epoch 268/300\n",
      "78/78 - 0s - loss: 0.7254 - dense_82_loss: 0.0412 - dense_83_loss: 0.6842\n",
      "Epoch 269/300\n",
      "78/78 - 0s - loss: 0.7251 - dense_82_loss: 0.0411 - dense_83_loss: 0.6840\n",
      "Epoch 270/300\n",
      "78/78 - 0s - loss: 0.7255 - dense_82_loss: 0.0412 - dense_83_loss: 0.6843\n",
      "Epoch 271/300\n",
      "78/78 - 0s - loss: 0.7251 - dense_82_loss: 0.0411 - dense_83_loss: 0.6841\n",
      "Epoch 272/300\n",
      "78/78 - 0s - loss: 0.7253 - dense_82_loss: 0.0411 - dense_83_loss: 0.6842\n",
      "Epoch 273/300\n",
      "78/78 - 0s - loss: 0.7252 - dense_82_loss: 0.0413 - dense_83_loss: 0.6839\n",
      "Epoch 274/300\n",
      "78/78 - 0s - loss: 0.7253 - dense_82_loss: 0.0412 - dense_83_loss: 0.6842\n",
      "Epoch 275/300\n",
      "78/78 - 0s - loss: 0.7249 - dense_82_loss: 0.0410 - dense_83_loss: 0.6839\n",
      "Epoch 276/300\n",
      "78/78 - 0s - loss: 0.7252 - dense_82_loss: 0.0414 - dense_83_loss: 0.6839\n",
      "Epoch 277/300\n",
      "78/78 - 0s - loss: 0.7253 - dense_82_loss: 0.0413 - dense_83_loss: 0.6841\n",
      "Epoch 278/300\n",
      "78/78 - 0s - loss: 0.7252 - dense_82_loss: 0.0412 - dense_83_loss: 0.6841\n",
      "Epoch 279/300\n",
      "78/78 - 0s - loss: 0.7251 - dense_82_loss: 0.0410 - dense_83_loss: 0.6841\n",
      "Epoch 280/300\n",
      "78/78 - 0s - loss: 0.7250 - dense_82_loss: 0.0411 - dense_83_loss: 0.6839\n",
      "Epoch 281/300\n",
      "78/78 - 0s - loss: 0.7251 - dense_82_loss: 0.0412 - dense_83_loss: 0.6840\n",
      "Epoch 282/300\n",
      "78/78 - 0s - loss: 0.7248 - dense_82_loss: 0.0410 - dense_83_loss: 0.6837\n",
      "Epoch 283/300\n"
     ]
    },
    {
     "name": "stdout",
     "output_type": "stream",
     "text": [
      "78/78 - 0s - loss: 0.7252 - dense_82_loss: 0.0411 - dense_83_loss: 0.6841\n",
      "Epoch 284/300\n",
      "78/78 - 0s - loss: 0.7250 - dense_82_loss: 0.0411 - dense_83_loss: 0.6839\n",
      "Epoch 285/300\n",
      "78/78 - 0s - loss: 0.7248 - dense_82_loss: 0.0410 - dense_83_loss: 0.6838\n",
      "Epoch 286/300\n",
      "78/78 - 0s - loss: 0.7250 - dense_82_loss: 0.0411 - dense_83_loss: 0.6839\n",
      "Epoch 287/300\n",
      "78/78 - 0s - loss: 0.7250 - dense_82_loss: 0.0411 - dense_83_loss: 0.6839\n",
      "Epoch 288/300\n",
      "78/78 - 0s - loss: 0.7249 - dense_82_loss: 0.0411 - dense_83_loss: 0.6839\n",
      "Epoch 289/300\n",
      "78/78 - 0s - loss: 0.7252 - dense_82_loss: 0.0412 - dense_83_loss: 0.6840\n",
      "Epoch 290/300\n",
      "78/78 - 0s - loss: 0.7254 - dense_82_loss: 0.0412 - dense_83_loss: 0.6841\n",
      "Epoch 291/300\n",
      "78/78 - 0s - loss: 0.7246 - dense_82_loss: 0.0410 - dense_83_loss: 0.6836\n",
      "Epoch 292/300\n",
      "78/78 - 0s - loss: 0.7251 - dense_82_loss: 0.0413 - dense_83_loss: 0.6838\n",
      "Epoch 293/300\n",
      "78/78 - 0s - loss: 0.7246 - dense_82_loss: 0.0411 - dense_83_loss: 0.6835\n",
      "Epoch 294/300\n",
      "78/78 - 0s - loss: 0.7249 - dense_82_loss: 0.0412 - dense_83_loss: 0.6837\n",
      "Epoch 295/300\n",
      "78/78 - 0s - loss: 0.7249 - dense_82_loss: 0.0410 - dense_83_loss: 0.6838\n",
      "Epoch 296/300\n",
      "78/78 - 0s - loss: 0.7248 - dense_82_loss: 0.0411 - dense_83_loss: 0.6837\n",
      "Epoch 297/300\n",
      "78/78 - 0s - loss: 0.7247 - dense_82_loss: 0.0412 - dense_83_loss: 0.6835\n",
      "Epoch 298/300\n",
      "78/78 - 0s - loss: 0.7252 - dense_82_loss: 0.0412 - dense_83_loss: 0.6840\n",
      "Epoch 299/300\n",
      "78/78 - 0s - loss: 0.7250 - dense_82_loss: 0.0411 - dense_83_loss: 0.6838\n",
      "Epoch 300/300\n",
      "78/78 - 0s - loss: 0.7245 - dense_82_loss: 0.0410 - dense_83_loss: 0.6835\n"
     ]
    },
    {
     "data": {
      "text/plain": [
       "<tensorflow.python.keras.callbacks.History at 0x175c31edd30>"
      ]
     },
     "execution_count": 441,
     "metadata": {},
     "output_type": "execute_result"
    }
   ],
   "source": [
    "model.fit(X_train, [y_train, y_train_class], epochs=300, batch_size=256, verbose=2)"
   ]
  },
  {
   "cell_type": "code",
   "execution_count": 442,
   "metadata": {
    "scrolled": true
   },
   "outputs": [
    {
     "name": "stdout",
     "output_type": "stream",
     "text": [
      "MAE: 0.162\n"
     ]
    }
   ],
   "source": [
    "yhat1, yhat2 = model.predict(X_test)\n",
    "error = mean_absolute_error(y_test, yhat1)\n",
    "print('MAE: %.3f'% error)"
   ]
  },
  {
   "cell_type": "code",
   "execution_count": 443,
   "metadata": {
    "scrolled": false
   },
   "outputs": [
    {
     "name": "stdout",
     "output_type": "stream",
     "text": [
      "Accuracy: 0.562\n"
     ]
    }
   ],
   "source": [
    "yhat2 = np.argmax(yhat2, axis=-1).astype('int')\n",
    "accuracy = accuracy_score(y_test_class, yhat2)\n",
    "print(\"Accuracy: %.3f\" % accuracy)"
   ]
  },
  {
   "cell_type": "markdown",
   "metadata": {},
   "source": [
    "# Conclusion"
   ]
  },
  {
   "cell_type": "markdown",
   "metadata": {},
   "source": [
    "- **The model suggest that employees paid in middle range of income (such as engineers, data scientists) were more likely to quit and the main drivers were compensation related.**\n",
    "- **Due to lack of effective features, the accuracy of the model prediction was not superior, only 57% approximately, which is just slightly better than random guesses.**\n",
    "- **To improve the performance of the model, more meaningful data should be collected. Variables such as the amount of training, work-lefe banlance and benefits, just to name a few, however, if there is only variable could be selected, I would recommend to quantify employee engagement, because it might be an leading indicator that tells the clue.**"
   ]
  }
 ],
 "metadata": {
  "kernelspec": {
   "display_name": "Python 3",
   "language": "python",
   "name": "python3"
  },
  "language_info": {
   "codemirror_mode": {
    "name": "ipython",
    "version": 3
   },
   "file_extension": ".py",
   "mimetype": "text/x-python",
   "name": "python",
   "nbconvert_exporter": "python",
   "pygments_lexer": "ipython3",
   "version": "3.7.3"
  },
  "toc": {
   "base_numbering": 1,
   "nav_menu": {},
   "number_sections": true,
   "sideBar": true,
   "skip_h1_title": false,
   "title_cell": "Table of Contents",
   "title_sidebar": "Contents",
   "toc_cell": false,
   "toc_position": {},
   "toc_section_display": true,
   "toc_window_display": false
  },
  "varInspector": {
   "cols": {
    "lenName": 16,
    "lenType": 16,
    "lenVar": 40
   },
   "kernels_config": {
    "python": {
     "delete_cmd_postfix": "",
     "delete_cmd_prefix": "del ",
     "library": "var_list.py",
     "varRefreshCmd": "print(var_dic_list())"
    },
    "r": {
     "delete_cmd_postfix": ") ",
     "delete_cmd_prefix": "rm(",
     "library": "var_list.r",
     "varRefreshCmd": "cat(var_dic_list()) "
    }
   },
   "types_to_exclude": [
    "module",
    "function",
    "builtin_function_or_method",
    "instance",
    "_Feature"
   ],
   "window_display": false
  }
 },
 "nbformat": 4,
 "nbformat_minor": 2
}
